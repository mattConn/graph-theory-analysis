{
 "cells": [
  {
   "cell_type": "code",
   "execution_count": 2,
   "metadata": {},
   "outputs": [
    {
     "data": {
      "text/plain": [
       "[[0 1 1 1]\n",
       " [1 0 1 1]\n",
       " [1 1 0 1]\n",
       " [1 1 1 0]]\n",
       "Vertices: ['a', 'b', 'c', 'd']\n",
       "Neighborhoods: [['b', 'c', 'd'], ['a', 'c', 'd'], ['a', 'b', 'd'], ['a', 'b', 'c']]\n",
       "Degrees: [3, 3, 3, 3]\n",
       "Edges: ['ab', 'ac', 'ad', 'bc', 'bd', 'cd']\n",
       "Simple? True\n",
       "Complete? True\n",
       "Cycle? False"
      ]
     },
     "execution_count": 2,
     "metadata": {},
     "output_type": "execute_result"
    }
   ],
   "source": [
    "import numpy as np\n",
    "import matplotlib.pyplot as plt\n",
    "\n",
    "class Graph:\n",
    "    \n",
    "    def __init__(self, mat = np.matrix('0 1; 1 0')):\n",
    "        \n",
    "        # check if mat is square\n",
    "        if mat.shape[0] != mat.shape[1]:\n",
    "            print(\"Err: Adjacency matrix not square.\")\n",
    "            return\n",
    "\n",
    "        # check if mat is symmetrical\n",
    "        if not np.array_equal(np.array(np.transpose(mat)), np.array(mat)):\n",
    "            print(\"Err: Adjacency matrix not symmetrical.\")\n",
    "            return\n",
    "        \n",
    "        # adjacency matrix\n",
    "        self.mat = mat\n",
    "        \n",
    "        # sum of entire matrix\n",
    "        self.sum = sum(sum(np.array(self.mat)))\n",
    "        # sum of matrix diagonal\n",
    "        self.diagSum = sum(np.diag(self.mat))\n",
    "        \n",
    "        # vertices array\n",
    "        self.vertices = [chr(ord('a')+ v) for v in range(len(mat))]\n",
    "        \n",
    "        # edges array\n",
    "        self.edges = []\n",
    "        # init edges array\n",
    "        for i in range(len(self.vertices)):\n",
    "            for j in range(len(self.vertices)):\n",
    "                # if number of edges in mat > 0, concat characters in vertices array\n",
    "                for k in range(np.array(np.triu(self.mat))[i][j]):\n",
    "                    self.edges.append(self.vertices[i] + self.vertices[j])\n",
    "                    \n",
    "        # neighborhood of each vertex\n",
    "        self.neighborhoods = []\n",
    "         # init neighborhoods array\n",
    "        for row in np.array(self.mat):\n",
    "            i = 0\n",
    "            n = []\n",
    "            for col in row:\n",
    "                if col > 0:\n",
    "                    n.append(self.vertices[i])\n",
    "                i += 1\n",
    "            self.neighborhoods.append(n)\n",
    "                    \n",
    "        \n",
    "        # degree of each vertex\n",
    "        self.degrees = [sum(row) for row in np.array(mat)]\n",
    "                \n",
    "        # is graph simple? check for diagonal 0\n",
    "        self.isSimple = True if self.diagSum == 0 else False\n",
    "        # is graph simple? check for multiple edges\n",
    "        for row in np.array(self.mat):\n",
    "            for col in row:\n",
    "                if(col > 1):\n",
    "                    self.isSimple = False\n",
    "                    break\n",
    "        \n",
    "        # is graph complete?\n",
    "        self.isComplete = True if self.sum == len(self.vertices)**2 - len(self.vertices) and self.diagSum == 0 else False\n",
    "    \n",
    "        # is graph a cycle?\n",
    "        self.isCycle = True if self.sum == 2*len(self.vertices) and self.diagSum == 0 else False\n",
    "    \n",
    "    def __repr__(self):\n",
    "        return f\"{self.mat}\\nVertices: {self.vertices}\\nNeighborhoods: {self.neighborhoods}\\nDegrees: {self.degrees}\\nEdges: {self.edges}\\nSimple? {self.isSimple}\\nComplete? {self.isComplete}\\nCycle? {self.isCycle}\"\n",
    "    \n",
    "# k4 = Graph(np.matrix('0 1 1 1; 1 0 1 1; 1 1 0 1; 1 1 1 0'))       \n",
    "# g = Graph(np.matrix('0 1 1;1 0 1; 1 1 0'))\n",
    "g = Graph(np.matrix('0 1 1 1;1 0 1 1; 1 1 0 1; 1 1 1 0'))\n",
    "g"
   ]
  },
  {
   "cell_type": "code",
   "execution_count": 84,
   "metadata": {
    "scrolled": true
   },
   "outputs": [
    {
     "data": {
      "image/png": "[encoded data removed]",
      "text/plain": [
       "<matplotlib.figure.Figure at 0x11bd6fbe0>"
      ]
     },
     "metadata": {},
     "output_type": "display_data"
    }
   ],
   "source": [
    "h = Graph(np.matrix('0 1 1; 1 0 1; 1 1 0'))\n",
    "x = np.linspace(1, 2*np.pi, 4)\n",
    "pts = [[np.cos(i), np.sin(i)] for i in x]\n",
    "\n",
    "n = 1\n",
    "# plot points\n",
    "for i in range(len(pts)):\n",
    "    plt.plot(pts[i][0], pts[i][1],'ro' if n%2 else 'bo')\n",
    "    n+=1\n",
    "    \n",
    "# connect points\n",
    "for i in range(len(pts)-1):\n",
    "    plt.plot(pts[i], pts[i+1],'r')\n",
    "\n",
    "# plt.plot(pts[0], pts[1])\n",
    "# plt.axis('off')\n",
    "plt.show()\n"
   ]
  },
  {
   "cell_type": "code",
   "execution_count": null,
   "metadata": {},
   "outputs": [],
   "source": []
  }
 ],
 "metadata": {
  "kernelspec": {
   "display_name": "Python 3",
   "language": "python",
   "name": "python3"
  },
  "language_info": {
   "codemirror_mode": {
    "name": "ipython",
    "version": 3
   },
   "file_extension": ".py",
   "mimetype": "text/x-python",
   "name": "python",
   "nbconvert_exporter": "python",
   "pygments_lexer": "ipython3",
   "version": "3.6.4"
  }
 },
 "nbformat": 4,
 "nbformat_minor": 2
}
