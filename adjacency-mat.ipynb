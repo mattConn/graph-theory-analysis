{
 "cells": [
  {
   "cell_type": "code",
   "execution_count": 174,
   "metadata": {},
   "outputs": [
    {
     "name": "stdout",
     "output_type": "stream",
     "text": [
      "  a b c d \n",
      "[[0 1 1 1]\n",
      " [1 0 1 1]\n",
      " [1 1 0 1]\n",
      " [1 1 1 0]]\n",
      "\n",
      "|V| = 4\n",
      "|E| = 6\n",
      "\n",
      "deg(a) = 3\n",
      "deg(b) = 3\n",
      "deg(c) = 3\n",
      "deg(d) = 3\n"
     ]
    }
   ],
   "source": [
    "\n",
    "\n",
    "import numpy as np\n",
    "\n",
    "# adjacency matrix\n",
    "# a = np.matrix('0 1 1; 1 0 1; 1 1 0')\n",
    "a = np.matrix('0 1 1 1; 1 0 1 1 ; 1 1 0 1; 1 1 1 0')\n",
    "\n",
    "def matEval(mat):\n",
    "    \n",
    "    # display matrix\n",
    "    print('  ', end='')\n",
    "    for i in range(0, len(mat)):\n",
    "        print( chr(ord('a')+i), end=' ')\n",
    "        \n",
    "    print()\n",
    "    print(mat, end='\\n\\n')\n",
    "    \n",
    "    # check if matrix is square, return if not\n",
    "    if(mat.shape[0] != mat.shape[1]):\n",
    "        print(\"Error: Matrix must be square.\")\n",
    "        return\n",
    "    \n",
    "    # display number of edges\n",
    "    print(\"|V| =\", len(mat))\n",
    "    # display number of edges\n",
    "    print(\"|E| =\", np.sum(np.triu(mat)))\n",
    "    \n",
    "    print()\n",
    "    # display degree of each vertex\n",
    "    i = 0\n",
    "    for row in mat:\n",
    "        print(f\"deg({chr(ord('a')+i)})\",'=',np.sum(row))\n",
    "        i+=1\n",
    "\n",
    "matEval(a)"
   ]
  },
  {
   "cell_type": "code",
   "execution_count": null,
   "metadata": {},
   "outputs": [],
   "source": []
  }
 ],
 "metadata": {
  "kernelspec": {
   "display_name": "Python 3",
   "language": "python",
   "name": "python3"
  },
  "language_info": {
   "codemirror_mode": {
    "name": "ipython",
    "version": 3
   },
   "file_extension": ".py",
   "mimetype": "text/x-python",
   "name": "python",
   "nbconvert_exporter": "python",
   "pygments_lexer": "ipython3",
   "version": "3.6.4"
  }
 },
 "nbformat": 4,
 "nbformat_minor": 2
}
