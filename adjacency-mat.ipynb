{
 "cells": [
  {
   "cell_type": "code",
   "execution_count": 52,
   "metadata": {},
   "outputs": [
    {
     "name": "stdout",
     "output_type": "stream",
     "text": [
      "  a b c d \n",
      "[[0 1 1 1]\n",
      " [1 0 1 1]\n",
      " [1 1 0 1]\n",
      " [1 1 1 0]]\n",
      "\n",
      "|V| = 4\n",
      "|E| = 6\n",
      "\n",
      "deg(a) = 3\n",
      "deg(b) = 3\n",
      "deg(c) = 3\n",
      "deg(d) = 3\n"
     ]
    }
   ],
   "source": [
    "# matEval will find/display:\n",
    "# Number of edges, vertices\n",
    "# degree of all vertices\n",
    "# Neighborhoods for all vertices\n",
    "\n",
    "import numpy as np\n",
    "\n",
    "# adjacency matrix\n",
    "# a = np.matrix('0 1 1; 1 0 1; 1 1 0')\n",
    "a = np.matrix('0 1 1 1; 1 0 1 1 ; 1 1 0 1; 1 1 1 0')\n",
    "\n",
    "def matEval(mat):\n",
    "    \n",
    "    # display matrix\n",
    "    print('  ', end='')\n",
    "    for i in range(0, len(mat)):\n",
    "        print( chr(ord('a')+i), end=' ')\n",
    "        \n",
    "    print()\n",
    "    print(mat, end='\\n\\n')\n",
    "    \n",
    "    # check if matrix is square, return if not\n",
    "    if(mat.shape[0] != mat.shape[1]):\n",
    "        print(\"Error: Matrix must be square.\")\n",
    "        return\n",
    "    \n",
    "    # display number of edges\n",
    "    print(\"|V| =\", len(mat))\n",
    "    # display number of edges\n",
    "    print(\"|E| =\", np.sum(np.triu(mat)))\n",
    "    \n",
    "    print()\n",
    "    \n",
    "    # display degree of each vertex\n",
    "    i = 0\n",
    "    for row in mat:\n",
    "        print(f\"deg({chr(ord('a')+i)})\",'=',np.sum(row))\n",
    "        i+=1\n",
    "\n",
    "matEval(a)"
   ]
  },
  {
   "cell_type": "code",
   "execution_count": 67,
   "metadata": {},
   "outputs": [
    {
     "data": {
      "text/plain": [
       "Vertices: ['a', 'b', 'c']\n",
       "Degrees: [2, 2, 2]\n",
       "Edges: ['ab', 'ac', 'bc']"
      ]
     },
     "execution_count": 67,
     "metadata": {},
     "output_type": "execute_result"
    }
   ],
   "source": [
    "class Graph:\n",
    "    \n",
    "    def __init__(self, adjMat = np.matrix('0 1; 1 0')):\n",
    "        \n",
    "        if adjMat.shape[0] != adjMat.shape[1]:\n",
    "            print(\"Err: Adjacency matrix not square.\")\n",
    "            return\n",
    "\n",
    "        if not np.array_equal(np.array(np.transpose(adjMat)), np.array(adjMat)):\n",
    "            print(\"Err: Adjacency matrix not symmetrical.\")\n",
    "            return\n",
    "        \n",
    "        # adjacency matrix\n",
    "        self.adjMat = adjMat\n",
    "        \n",
    "        # vertices array\n",
    "        self.vertices = [chr(ord('a')+ v) for v in range(len(adjMat))]\n",
    "        \n",
    "        # edges array\n",
    "        self.edges = []\n",
    "        \n",
    "        # init edges array\n",
    "        for i in range(len(self.adjMat)):\n",
    "            for j in range(len(self.adjMat)):\n",
    "                \n",
    "                # if number of edges in mat > 0, concat characters in vertices array\n",
    "                for k in range(np.array(np.triu(self.adjMat))[i][j]):\n",
    "                    self.edges.append(self.vertices[i] + self.vertices[j])\n",
    "                    \n",
    "        # degree of each vertex\n",
    "        self.degrees = [sum(row) for row in np.array(adjMat)]\n",
    "                    \n",
    "    \n",
    "    \n",
    "    def __repr__(self):\n",
    "        return f\"Vertices: {self.vertices}\\nDegrees: {self.degrees}\\nEdges: {self.edges}\"\n",
    "    \n",
    "# k4 = Graph(np.matrix('0 1 1 1; 1 0 1 1; 1 1 0 1; 1 1 1 0'))       \n",
    "g = Graph(np.matrix('0 1 1;1 0 1; 1 1 0'))\n",
    "g"
   ]
  },
  {
   "cell_type": "code",
   "execution_count": null,
   "metadata": {},
   "outputs": [],
   "source": []
  }
 ],
 "metadata": {
  "kernelspec": {
   "display_name": "Python 3",
   "language": "python",
   "name": "python3"
  },
  "language_info": {
   "codemirror_mode": {
    "name": "ipython",
    "version": 3
   },
   "file_extension": ".py",
   "mimetype": "text/x-python",
   "name": "python",
   "nbconvert_exporter": "python",
   "pygments_lexer": "ipython3",
   "version": "3.6.4"
  }
 },
 "nbformat": 4,
 "nbformat_minor": 2
}
